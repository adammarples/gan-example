{
 "cells": [
  {
   "cell_type": "markdown",
   "metadata": {},
   "source": [
    "## GAN on MNIST\n",
    "\n",
    "https://towardsdatascience.com/gan-by-example-using-keras-on-tensorflow-backend-1a6d515a60d0\n",
    "\n",
    "https://github.com/PacktPublishing/Advanced-Deep-Learning-with-Keras/blob/master/chapter4-gan/dcgan-mnist-4.2.1.py\n",
    "\n",
    "https://github.com/eriklindernoren/Keras-GAN/blob/master/gan/gan.py\n",
    "\n",
    "https://github.com/keras-team/keras/issues/8585\n",
    "\n",
    "https://github.com/soumith/ganhacks"
   ]
  },
  {
   "cell_type": "code",
   "execution_count": 4,
   "metadata": {},
   "outputs": [],
   "source": [
    "import os\n",
    "os.environ['KERAS_BACKEND'] = 'tensorflow'"
   ]
  },
  {
   "cell_type": "code",
   "execution_count": 123,
   "metadata": {},
   "outputs": [],
   "source": [
    "import warnings\n",
    "warnings.simplefilter('ignore')"
   ]
  },
  {
   "cell_type": "code",
   "execution_count": 124,
   "metadata": {},
   "outputs": [],
   "source": [
    "import keras\n",
    "import numpy as np\n",
    "import datetime\n",
    "import tensorflow as tf\n",
    "import matplotlib.pyplot as plt\n",
    "\n",
    "from keras.models import Sequential, Model, Input\n",
    "from keras.layers import Dense, BatchNormalization, Activation, LeakyReLU, Dropout, \\\n",
    "                                Reshape, UpSampling2D, Conv2DTranspose, Flatten, Conv2D\n",
    "from keras.optimizers import RMSprop, Adam, SGD\n",
    "from keras.datasets import mnist, fashion_mnist\n",
    "from keras.engine.network import Network\n",
    "from keras.callbacks import TensorBoard\n",
    "import keras.backend as K\n",
    "\n",
    "from tqdm import tqdm_notebook\n",
    "from collections import namedtuple\n",
    "\n",
    "%matplotlib inline"
   ]
  },
  {
   "cell_type": "code",
   "execution_count": 125,
   "metadata": {},
   "outputs": [
    {
     "data": {
      "text/plain": [
       "['/job:localhost/replica:0/task:0/device:GPU:0']"
      ]
     },
     "execution_count": 125,
     "metadata": {},
     "output_type": "execute_result"
    }
   ],
   "source": [
    "K.tensorflow_backend._get_available_gpus()"
   ]
  },
  {
   "cell_type": "code",
   "execution_count": 126,
   "metadata": {},
   "outputs": [],
   "source": [
    "(X_train, y_train), (X_test, y_test) = mnist.load_data()"
   ]
  },
  {
   "cell_type": "code",
   "execution_count": 127,
   "metadata": {},
   "outputs": [],
   "source": [
    "(X_train, y_train), (X_test, y_test) = fashion_mnist.load_data()"
   ]
  },
  {
   "cell_type": "code",
   "execution_count": 128,
   "metadata": {},
   "outputs": [],
   "source": [
    "X_train = X_train[y_train==7]\n",
    "# X_train.shape"
   ]
  },
  {
   "cell_type": "code",
   "execution_count": 129,
   "metadata": {},
   "outputs": [],
   "source": [
    "def scale(a):\n",
    "    return (2 * (a - a.min()) / (a.max() - a.min())) - 1\n",
    "\n",
    "X_train = scale(X_train)"
   ]
  },
  {
   "cell_type": "code",
   "execution_count": 130,
   "metadata": {},
   "outputs": [
    {
     "data": {
      "text/plain": [
       "11"
      ]
     },
     "execution_count": 130,
     "metadata": {},
     "output_type": "execute_result"
    }
   ],
   "source": [
    "batch_size = 512\n",
    "n_batches = int(X_train.shape[0] / batch_size)\n",
    "n_batches"
   ]
  },
  {
   "cell_type": "code",
   "execution_count": 131,
   "metadata": {},
   "outputs": [
    {
     "name": "stdout",
     "output_type": "stream",
     "text": [
      "_________________________________________________________________\n",
      "Layer (type)                 Output Shape              Param #   \n",
      "=================================================================\n",
      "input_36 (InputLayer)        (None, 100)               0         \n",
      "_________________________________________________________________\n",
      "sequential_25 (Sequential)   (None, 28, 28, 1)         2394241   \n",
      "=================================================================\n",
      "Total params: 2,394,241\n",
      "Trainable params: 2,368,705\n",
      "Non-trainable params: 25,536\n",
      "_________________________________________________________________\n"
     ]
    }
   ],
   "source": [
    "def make_generator():\n",
    "    depth = 64 + 64 + 64 + 64\n",
    "    dim = 7\n",
    "    units = dim * dim * depth\n",
    "\n",
    "    model = Sequential([\n",
    "        Dense(input_dim=100, units=units),\n",
    "        BatchNormalization(momentum=0.9),\n",
    "        LeakyReLU(alpha=0.2),\n",
    "        Reshape((dim, dim, depth)),\n",
    "        UpSampling2D(),\n",
    "        Conv2DTranspose(int(depth/2), 5, padding='same'),\n",
    "        BatchNormalization(momentum=0.9),\n",
    "        LeakyReLU(alpha=0.2),\n",
    "        Conv2DTranspose(int(depth/4), 5, padding='same'),\n",
    "        BatchNormalization(momentum=0.9),\n",
    "        LeakyReLU(alpha=0.2),\n",
    "        UpSampling2D(),\n",
    "        Conv2DTranspose(int(depth/8), 5, padding='same'),\n",
    "        BatchNormalization(momentum=0.9),\n",
    "        LeakyReLU(alpha=0.2),\n",
    "        Conv2DTranspose(1, 5, padding='same'),\n",
    "        Activation('tanh'),\n",
    "    ])\n",
    "\n",
    "    noise = Input(shape=(100,))\n",
    "    image = model(noise)\n",
    "    return Model(noise, image)\n",
    "    \n",
    "\n",
    "make_generator().summary()"
   ]
  },
  {
   "cell_type": "code",
   "execution_count": 132,
   "metadata": {},
   "outputs": [],
   "source": [
    "def make_discriminator():\n",
    "    depth = 64\n",
    "    dropout = 0.9\n",
    "    input_shape = (28, 28, 1)\n",
    "\n",
    "    model = Sequential([\n",
    "        Conv2D(depth*1, 5, strides=2, input_shape=input_shape, padding='same'),\n",
    "        LeakyReLU(alpha=0.2),\n",
    "        Dropout(dropout),\n",
    "        Conv2D(depth*2, 5, strides=2, input_shape=input_shape, padding='same'),\n",
    "        LeakyReLU(alpha=0.2),       \n",
    "        Dropout(dropout),        \n",
    "        Flatten(),\n",
    "        Dense(1),\n",
    "        Activation('sigmoid'),\n",
    "    ])\n",
    "        \n",
    "    image = Input(shape=(28, 28, 1))\n",
    "    guess = model(image)\n",
    "    return Model(image, guess)\n"
   ]
  },
  {
   "cell_type": "code",
   "execution_count": 133,
   "metadata": {},
   "outputs": [],
   "source": [
    "def make_models():\n",
    "    generator = make_generator()\n",
    "    discriminator = make_discriminator()\n",
    "\n",
    "    generator.compile(\n",
    "        loss='binary_crossentropy',\n",
    "        optimizer=Adam(lr=0.00004, clipvalue=0.01, decay=3e-8),\n",
    "        metrics=['accuracy'],\n",
    "    )\n",
    "    discriminator.compile(\n",
    "        loss='binary_crossentropy',\n",
    "        optimizer=Adam(lr=0.00005, clipvalue=0.01, decay=6e-8),\n",
    "        metrics=['accuracy'],\n",
    "    )\n",
    "    \n",
    "    discriminator.trainable = False\n",
    "    noise = Input(shape=(100,))\n",
    "    adversarial = Model(noise, discriminator(generator(noise)))\n",
    "    adversarial.compile(\n",
    "        loss='binary_crossentropy',\n",
    "        optimizer=Adam(lr=0.00005, clipvalue=0.01, decay=6e-8),\n",
    "        metrics=['accuracy'],\n",
    "    )\n",
    "    Models = namedtuple('Models', 'g d a')\n",
    "    return Models(g=generator, d=discriminator, a=adversarial)\n"
   ]
  },
  {
   "cell_type": "code",
   "execution_count": 134,
   "metadata": {},
   "outputs": [],
   "source": [
    "class GAN:\n",
    "    \n",
    "    n_save = 5\n",
    "    \n",
    "    def __init__(self):\n",
    "        self.models = make_models()\n",
    "        self.epochs = 0\n",
    "#         self.writer = tf.summary.FileWriter(\"runs\")\n",
    "        \n",
    "    def make_noise(self):\n",
    "        return np.random.uniform(-1, 1, size=(batch_size, 100))\n",
    "\n",
    "    def predict_from_noise(self):\n",
    "        return self.models.g.predict(self.make_noise())\n",
    "    \n",
    "    def ones_batch(self):\n",
    "        return np.ones((batch_size, 1))\n",
    "    \n",
    "    def zeros_batch(self):\n",
    "        return np.zeros((batch_size, 1))\n",
    "            \n",
    "    def train(self, X):\n",
    "        X = X.copy()\n",
    "        np.random.shuffle(X)\n",
    "        X = X.reshape(*X.shape, 1)\n",
    "        d_loss = 0\n",
    "        x0 = 0\n",
    "        x1 = batch_size\n",
    "        pbar = tqdm_notebook(range(n_batches), leave=False)\n",
    "        for i in pbar:\n",
    "            # train d fake\n",
    "            noise = self.make_noise()\n",
    "            fake = self.models.g.predict(noise)\n",
    "            zeros = self.zeros_batch()\n",
    "            d_loss_fake, acc_f = self.models.d.train_on_batch(fake, zeros)\n",
    "            # train d real\n",
    "            real = X[x0:x1, :, :].reshape(batch_size, 28, 28, 1)\n",
    "            ones = self.ones_batch()\n",
    "            d_loss_real, acc_r = self.models.d.train_on_batch(real, ones)\n",
    "            d_loss += np.log(0.5*(d_loss_fake + d_loss_real))\n",
    "            # train adversarial\n",
    "            noise = self.make_noise()\n",
    "            ones = self.ones_batch()\n",
    "            a_loss, acc_a = self.models.a.train_on_batch(noise, ones)\n",
    "            pbar.set_description(' {} F:{:.2f} R:{:.2f} | A:{:.2f}'.format(self.epochs, d_loss_fake, d_loss_real, a_loss))\n",
    "            # update batch indices\n",
    "            x0 += batch_size\n",
    "            x1 += batch_size\n",
    "        \n",
    "#         image = fake[0:1, :, :, :]\n",
    "#         summary = tf.summary.image('sample', tf.convert_to_tensor(image), family='samples')\n",
    "#         self.writer.add_summary(summary, self.epochs)\n",
    "        \n",
    "        self.epochs += 1\n",
    "        \n",
    "    def show(self, shape=(4, 4)):\n",
    "        rows, cols = shape\n",
    "        yhat = self.predict_from_noise()\n",
    "        np.random.shuffle(yhat)\n",
    "        fig, axes_groups = plt.subplots(rows, cols, figsize=(2*rows, 2*cols), sharex=True, sharey=True)\n",
    "        count = 0\n",
    "        for i, axes in enumerate(axes_groups):\n",
    "            for j, ax in enumerate(axes):\n",
    "                img = yhat[count, :, :, :]\n",
    "                img = img.reshape(28, 28)\n",
    "                ax.imshow(img, cmap='gray')\n",
    "                count += 1\n",
    "        plt.tight_layout()\n",
    "\n",
    "    def save(self, direc):\n",
    "        self.models.g.save('{}/g.h5'.format(direc))\n",
    "        self.models.d.save('{}/d.h5'.format(direc))\n",
    "        self.models.a.save('{}/a.h5'.format(direc))\n",
    "        \n",
    "        \n",
    "class SoftGAN(GAN):\n",
    "    def __init__(self):\n",
    "        super().__init__()\n",
    "        \n",
    "    def ones_batch(self):\n",
    "        return np.random.uniform(0.7, 1., size=(batch_size, 1))\n",
    "    \n",
    "    def zeros_batch(self):\n",
    "        return np.random.uniform(0, 0.3, size=(batch_size, 1))\n",
    "    \n",
    "    \n",
    "class GaussianGAN(GAN):\n",
    "    def __init__(self):\n",
    "        super().__init__()\n",
    "    \n",
    "    def make_noise(self):\n",
    "        return np.random.normal(0, 1, size=(batch_size, 100))\n",
    "    \n",
    "    \n",
    "class FlipGAN(GAN):\n",
    "    def __init__(self, *args, flip, **kwargs):\n",
    "        super().__init__(*args, **kwargs)\n",
    "        self.flip = flip\n",
    "    \n",
    "    def ones_batch(self):\n",
    "        if np.random.rand() < self.flip:\n",
    "            return super().zeros_batch()\n",
    "        return super().ones_batch()\n",
    "    \n",
    "    def zeros_batch(self):\n",
    "        if np.random.rand() < self.flip:\n",
    "            return super().ones_batch()\n",
    "        return super().zeros_batch()\n",
    "    \n",
    "    \n",
    "class SoftGaussianGAN(SoftGAN, GaussianGAN):\n",
    "    pass\n",
    "\n",
    "\n",
    "class SoftGaussianFlipGAN(FlipGAN, SoftGAN, GaussianGAN):\n",
    "    pass"
   ]
  },
  {
   "cell_type": "code",
   "execution_count": 135,
   "metadata": {},
   "outputs": [],
   "source": [
    "gan = SoftGaussianFlipGAN(flip=0.05)"
   ]
  },
  {
   "cell_type": "code",
   "execution_count": null,
   "metadata": {},
   "outputs": [
    {
     "data": {
      "application/vnd.jupyter.widget-view+json": {
       "model_id": "",
       "version_major": 2,
       "version_minor": 0
      },
      "text/plain": [
       "HBox(children=(IntProgress(value=0, max=11), HTML(value='')))"
      ]
     },
     "metadata": {},
     "output_type": "display_data"
    },
    {
     "data": {
      "application/vnd.jupyter.widget-view+json": {
       "model_id": "",
       "version_major": 2,
       "version_minor": 0
      },
      "text/plain": [
       "HBox(children=(IntProgress(value=0, max=11), HTML(value='')))"
      ]
     },
     "metadata": {},
     "output_type": "display_data"
    },
    {
     "data": {
      "application/vnd.jupyter.widget-view+json": {
       "model_id": "",
       "version_major": 2,
       "version_minor": 0
      },
      "text/plain": [
       "HBox(children=(IntProgress(value=0, max=11), HTML(value='')))"
      ]
     },
     "metadata": {},
     "output_type": "display_data"
    },
    {
     "data": {
      "application/vnd.jupyter.widget-view+json": {
       "model_id": "",
       "version_major": 2,
       "version_minor": 0
      },
      "text/plain": [
       "HBox(children=(IntProgress(value=0, max=11), HTML(value='')))"
      ]
     },
     "metadata": {},
     "output_type": "display_data"
    },
    {
     "data": {
      "application/vnd.jupyter.widget-view+json": {
       "model_id": "",
       "version_major": 2,
       "version_minor": 0
      },
      "text/plain": [
       "HBox(children=(IntProgress(value=0, max=11), HTML(value='')))"
      ]
     },
     "metadata": {},
     "output_type": "display_data"
    },
    {
     "data": {
      "application/vnd.jupyter.widget-view+json": {
       "model_id": "",
       "version_major": 2,
       "version_minor": 0
      },
      "text/plain": [
       "HBox(children=(IntProgress(value=0, max=11), HTML(value='')))"
      ]
     },
     "metadata": {},
     "output_type": "display_data"
    },
    {
     "data": {
      "application/vnd.jupyter.widget-view+json": {
       "model_id": "",
       "version_major": 2,
       "version_minor": 0
      },
      "text/plain": [
       "HBox(children=(IntProgress(value=0, max=11), HTML(value='')))"
      ]
     },
     "metadata": {},
     "output_type": "display_data"
    },
    {
     "data": {
      "application/vnd.jupyter.widget-view+json": {
       "model_id": "",
       "version_major": 2,
       "version_minor": 0
      },
      "text/plain": [
       "HBox(children=(IntProgress(value=0, max=11), HTML(value='')))"
      ]
     },
     "metadata": {},
     "output_type": "display_data"
    },
    {
     "data": {
      "application/vnd.jupyter.widget-view+json": {
       "model_id": "",
       "version_major": 2,
       "version_minor": 0
      },
      "text/plain": [
       "HBox(children=(IntProgress(value=0, max=11), HTML(value='')))"
      ]
     },
     "metadata": {},
     "output_type": "display_data"
    },
    {
     "data": {
      "application/vnd.jupyter.widget-view+json": {
       "model_id": "",
       "version_major": 2,
       "version_minor": 0
      },
      "text/plain": [
       "HBox(children=(IntProgress(value=0, max=11), HTML(value='')))"
      ]
     },
     "metadata": {},
     "output_type": "display_data"
    },
    {
     "data": {
      "application/vnd.jupyter.widget-view+json": {
       "model_id": "",
       "version_major": 2,
       "version_minor": 0
      },
      "text/plain": [
       "HBox(children=(IntProgress(value=0, max=11), HTML(value='')))"
      ]
     },
     "metadata": {},
     "output_type": "display_data"
    },
    {
     "data": {
      "application/vnd.jupyter.widget-view+json": {
       "model_id": "",
       "version_major": 2,
       "version_minor": 0
      },
      "text/plain": [
       "HBox(children=(IntProgress(value=0, max=11), HTML(value='')))"
      ]
     },
     "metadata": {},
     "output_type": "display_data"
    },
    {
     "data": {
      "application/vnd.jupyter.widget-view+json": {
       "model_id": "",
       "version_major": 2,
       "version_minor": 0
      },
      "text/plain": [
       "HBox(children=(IntProgress(value=0, max=11), HTML(value='')))"
      ]
     },
     "metadata": {},
     "output_type": "display_data"
    },
    {
     "data": {
      "application/vnd.jupyter.widget-view+json": {
       "model_id": "",
       "version_major": 2,
       "version_minor": 0
      },
      "text/plain": [
       "HBox(children=(IntProgress(value=0, max=11), HTML(value='')))"
      ]
     },
     "metadata": {},
     "output_type": "display_data"
    },
    {
     "data": {
      "application/vnd.jupyter.widget-view+json": {
       "model_id": "13caf8229d934f3fa35443a0995d1084",
       "version_major": 2,
       "version_minor": 0
      },
      "text/plain": [
       "HBox(children=(IntProgress(value=0, max=11), HTML(value='')))"
      ]
     },
     "metadata": {},
     "output_type": "display_data"
    }
   ],
   "source": [
    "while True:\n",
    "    gan.train(X_train)"
   ]
  },
  {
   "cell_type": "code",
   "execution_count": 145,
   "metadata": {},
   "outputs": [
    {
     "data": {
      "image/png": "[encoded data removed]",
      "text/plain": [
       "<Figure size 576x576 with 16 Axes>"
      ]
     },
     "metadata": {
      "needs_background": "light"
     },
     "output_type": "display_data"
    }
   ],
   "source": [
    "gan.show(shape=(4, 4))"
   ]
  },
  {
   "cell_type": "code",
   "execution_count": 153,
   "metadata": {},
   "outputs": [
    {
     "data": {
      "image/png": "[encoded data removed]",
      "text/plain": [
       "<Figure size 576x576 with 16 Axes>"
      ]
     },
     "metadata": {
      "needs_background": "light"
     },
     "output_type": "display_data"
    }
   ],
   "source": [
    "def show(shape=(4, 4)):\n",
    "    rows, cols = shape\n",
    "    x = np.expand_dims(X_train, axis=-1)\n",
    "    np.random.shuffle(x)\n",
    "    fig, axes_groups = plt.subplots(rows, cols, figsize=(2*rows, 2*cols), sharex=True, sharey=True)\n",
    "    count = 0\n",
    "    for i, axes in enumerate(axes_groups):\n",
    "        for j, ax in enumerate(axes):\n",
    "            img = x[count, :, :, :]\n",
    "            img = img.reshape(28, 28)\n",
    "            ax.imshow(img, cmap='gray')\n",
    "            count += 1\n",
    "    plt.tight_layout()\n",
    "\n",
    "show()"
   ]
  },
  {
   "cell_type": "code",
   "execution_count": null,
   "metadata": {},
   "outputs": [],
   "source": [
    "gan.save('../models')"
   ]
  }
 ],
 "metadata": {
  "kernelspec": {
   "display_name": "keras",
   "language": "python",
   "name": "keras"
  },
  "language_info": {
   "codemirror_mode": {
    "name": "ipython",
    "version": 3
   },
   "file_extension": ".py",
   "mimetype": "text/x-python",
   "name": "python",
   "nbconvert_exporter": "python",
   "pygments_lexer": "ipython3",
   "version": "3.6.7"
  }
 },
 "nbformat": 4,
 "nbformat_minor": 2
}
